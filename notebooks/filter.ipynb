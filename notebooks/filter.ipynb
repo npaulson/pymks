{
 "cells": [
  {
   "cell_type": "markdown",
   "metadata": {},
   "source": [
    "# Filter Example\n",
    "\n",
    "This example demonstrates the connection between MKS and signal\n",
    "processing for a 1D filter. It shows that the filter is in fact the\n",
    "same as the influence coefficients and, thus, applying the `predict`\n",
    "method provided by the `MKSLocalizationnModel` is in essence just applying a filter."
   ]
  },
  {
   "cell_type": "code",
   "execution_count": 1,
   "metadata": {
    "collapsed": false
   },
   "outputs": [],
   "source": [
    "if __import__('pyfftw'):\n",
    "    import pyfftw\n",
    "%matplotlib inline\n",
    "%load_ext autoreload\n",
    "%autoreload 2\n",
    "\n",
    "import numpy as np\n",
    "import matplotlib.pyplot as plt\n"
   ]
  },
  {
   "cell_type": "markdown",
   "metadata": {},
   "source": [
    "Here we construct a filter, $F$, such that\n",
    "\n",
    "$$F\\left(x\\right) = e^{-|x|} \\cos{\\left(2\\pi x\\right)} $$\n",
    "\n",
    "We want to show that, if $F$ is used to generate sample calibration\n",
    "data for the MKS, then the calculated influence coefficients are in\n",
    "fact just $F$."
   ]
  },
  {
   "cell_type": "code",
   "execution_count": 2,
   "metadata": {
    "collapsed": false
   },
   "outputs": [
    {
     "data": {
      "image/png": "[encoded data removed]",
      "text/plain": [
       "<matplotlib.figure.Figure at 0x7fdc3dc8cb50>"
      ]
     },
     "metadata": {},
     "output_type": "display_data"
    }
   ],
   "source": [
    "x0 = -10.\n",
    "x1 = 10.\n",
    "x = np.linspace(x0, x1, 1000)\n",
    "def F(x):\n",
    "    return np.exp(-abs(x)) * np.cos(2 * np.pi * x)\n",
    "p = plt.plot(x, F(x), color='#1a9850')\n"
   ]
  },
  {
   "cell_type": "markdown",
   "metadata": {},
   "source": [
    "Next we generate the sample data `(X, y)` using\n",
    "`scipy.ndimage.convolve`. This performs the convolution\n",
    "\n",
    "$$ p\\left[ s \\right] = \\sum_r F\\left[r\\right] X\\left[r - s\\right] $$\n",
    "\n",
    "for each sample."
   ]
  },
  {
   "cell_type": "code",
   "execution_count": 3,
   "metadata": {
    "collapsed": false
   },
   "outputs": [],
   "source": [
    "import scipy.ndimage\n",
    "\n",
    "\n",
    "n_space = 101\n",
    "n_sample = 50\n",
    "np.random.seed(201)\n",
    "x = np.linspace(x0, x1, n_space)\n",
    "X = np.random.random((n_sample, n_space))\n",
    "y = np.array([scipy.ndimage.convolve(xx, F(x), mode='wrap') for xx in X])\n"
   ]
  },
  {
   "cell_type": "markdown",
   "metadata": {},
   "source": [
    "For this problem, a basis is unnecessary, as no discretization is\n",
    "required in order to reproduce the convolution with the MKS localization. Using\n",
    "the `ContinuousIndicatorBasis` with `n_states=2` is the equivalent of a\n",
    "non-discretized convolution in space."
   ]
  },
  {
   "cell_type": "code",
   "execution_count": 4,
   "metadata": {
    "collapsed": false
   },
   "outputs": [],
   "source": [
    "from pymks import MKSLocalizationModel\n",
    "from pymks import PrimitiveBasis\n",
    "\n",
    "p_basis = PrimitiveBasis(n_states=2, domain=[0, 1])\n",
    "model = MKSLocalizationModel(basis=p_basis)\n"
   ]
  },
  {
   "cell_type": "markdown",
   "metadata": {},
   "source": [
    "Fit the model using the data generated by $F$."
   ]
  },
  {
   "cell_type": "code",
   "execution_count": 5,
   "metadata": {
    "collapsed": false
   },
   "outputs": [],
   "source": [
    "model.fit(X, y)\n"
   ]
  },
  {
   "cell_type": "markdown",
   "metadata": {},
   "source": [
    "To check for internal consistency, we can compare the predicted\n",
    "output with the original for a few values"
   ]
  },
  {
   "cell_type": "code",
   "execution_count": 6,
   "metadata": {
    "collapsed": false
   },
   "outputs": [
    {
     "name": "stdout",
     "output_type": "stream",
     "text": [
      "[-0.41059557  0.20004566  0.61200171  0.5878077 ]\n",
      "[-0.41059557  0.20004566  0.61200171  0.5878077 ]\n"
     ]
    }
   ],
   "source": [
    "y_pred = model.predict(X)\n",
    "print y[0, :4]\n",
    "print y_pred[0, :4]\n"
   ]
  },
  {
   "cell_type": "markdown",
   "metadata": {},
   "source": [
    "With a slight linear manipulation of the coefficients, they agree perfectly with the shape of the filter, $F$. "
   ]
  },
  {
   "cell_type": "code",
   "execution_count": 7,
   "metadata": {
    "collapsed": false
   },
   "outputs": [
    {
     "data": {
      "image/png": "[encoded data removed]",
      "text/plain": [
       "<matplotlib.figure.Figure at 0x7fdc3dc8c650>"
      ]
     },
     "metadata": {},
     "output_type": "display_data"
    }
   ],
   "source": [
    "plt.plot(x, F(x), label=r'$F$', color='#1a9850')\n",
    "plt.plot(x, -model.coef_[:,0] + model.coef_[:, 1], \n",
    "         'k--', label=r'$\\alpha$')\n",
    "l = plt.legend()"
   ]
  },
  {
   "cell_type": "markdown",
   "metadata": {},
   "source": [
    "Some manipulation of the coefficients is required to reproduce the filter. Remember the convolution for the MKS is\n",
    "\n",
    "$$ p \\left[s\\right] = \\sum_{l=0}^{L-1} \\sum_{r=0}^{S - 1} \\alpha[l, r] m[l, s - r] $$\n",
    "\n",
    "However, when the primitive basis is selected, the `MKSLocalizationModel` solves a modified form of this. There are always redundant coefficients since\n",
    "\n",
    "$$ \\sum\\limits_{l=0}^{L-1} m[l, s] = 1 $$\n",
    "\n",
    "Thus, the regression in Fourier space must be done with categorical variables, and the regression takes the following form:\n",
    "\n",
    "\n",
    "$$ \\begin{split}\n",
    "p [s] & = \\sum_{l=0}^{L - 1} \\sum_{r=0}^{S - 1} \\alpha[l, r] m[l, s -r] \\\\\n",
    "P [k] & = \\sum_{l=0}^{L - 1} \\beta[l, k] M[l, k] \\\\\n",
    "&= \\beta[0, k] M[0, k] + \\beta[1, k] M[1, k]\n",
    "\\end{split}\n",
    "$$\n",
    "\n",
    "where\n",
    "\n",
    "$$\\beta[0, k] = \\begin{cases}\n",
    "\\langle F(x) \\rangle ,& \\text{if } k = 0\\\\\n",
    "0,              & \\text{otherwise}\n",
    "\\end{cases} $$\n",
    "\n",
    "This removes the redundancies from the regression, and we can reproduce the filter."
   ]
  },
  {
   "cell_type": "code",
   "execution_count": null,
   "metadata": {
    "collapsed": true
   },
   "outputs": [],
   "source": []
  }
 ],
 "metadata": {
  "kernelspec": {
   "display_name": "Python 2",
   "language": "python",
   "name": "python2"
  },
  "language_info": {
   "codemirror_mode": {
    "name": "ipython",
    "version": 2
   },
   "file_extension": ".py",
   "mimetype": "text/x-python",
   "name": "python",
   "nbconvert_exporter": "python",
   "pygments_lexer": "ipython2",
   "version": "2.7.11"
  }
 },
 "nbformat": 4,
 "nbformat_minor": 0
}
