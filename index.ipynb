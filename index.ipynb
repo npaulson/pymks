{
 "cells": [
  {
   "cell_type": "markdown",
   "metadata": {
    "collapsed": false
   },
   "source": [
    "# PyMKS Examples\n",
    "\n",
    "This is the starting point for browsing the PyMKS examples. If you are new to PyMKS, then you should start with the [introductory notebook](notebooks/intro.ipynb) to find out how it works and then browse some of the other notebooks in the table of contents. If you need further reading about the materials knowledge system (MKS) then look at the references in the [README.md](README.md)\n",
    "\n",
    "### Introduction\n",
    "\n",
    " - [Introduction](notebooks/intro.ipynb)\n",
    "\n",
    "### 2-Point Statistics\n",
    "   - [Checkerboard Microstructure](notebooks/stats_checker_board.ipynb)\n",
    "   - [Low Carbon Steel Optical Micrographs](notebooks/stats_steel.ipynb)\n",
    "\n",
    "### Structure Analysis\n",
    "   \n",
    "   - [Structure Evolution of Ising Model](notebooks/structure_ising_2D.ipynb)\n",
    "   - [Phase Transition in Molecular Dynamics Simulation](notebooks/structure_md_2D.ipynb)\n",
    "\n",
    "### Homogenization\n",
    "   \n",
    "   - [Effective Stiffness of Composite Material](notebooks/homogenization_stress_2D.ipynb)\n",
    "   - [Effective Stiffness of Fiber Composite](notebooks/homogenization_fiber_2D.ipynb)\n",
    "\n",
    "### Localization\n",
    "   \n",
    "   - [Linear Elasticity in 2D](notebooks/localization_elasticity_2D.ipynb)\n",
    "   - [Linear Elasticity in 2D for 3 Phases](notebooks/localization_elasticity_multiphase_2D.ipynb)\n",
    "   - [Linear Elasticity in 3D](notebooks/localization_elasticity_3D.ipynb)\n",
    "   - [Filter Example](notebooks/filter.ipynb)\n",
    "   - [Cahn-Hilliard Example](notebooks/localization_cahn_hilliard_2D.ipynb)\n",
    "   - [Cahn-Hilliard with Primtive and Legendre Bases](notebooks/localization_cahn_hilliard_Legendre_2D.ipynb)\n",
    "   - [Linear Elasticity in 3D for Polycrystalline Microstructures](notebooks/localization_elasticity_polycrystal_hex_3D.ipynb)\n",
    "\n",
    "### Technical Background\n",
    "\n",
    "   - [Technical Overview](notebooks/tech_overview.ipynb)\n",
    "   - [Derivation of MKS localization](notebooks/derivation.ipynb)\n"
   ]
  }
 ],
 "metadata": {
  "kernelspec": {
   "display_name": "Python 3",
   "language": "python",
   "name": "python3"
  },
  "language_info": {
   "codemirror_mode": {
    "name": "ipython",
    "version": 3
   },
   "file_extension": ".py",
   "mimetype": "text/x-python",
   "name": "python",
   "nbconvert_exporter": "python",
   "pygments_lexer": "ipython3",
   "version": "3.5.1"
  }
 },
 "nbformat": 4,
 "nbformat_minor": 0
}
